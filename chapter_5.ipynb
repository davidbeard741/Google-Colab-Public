{
  "nbformat": 4,
  "nbformat_minor": 0,
  "metadata": {
    "colab": {
      "provenance": [],
      "collapsed_sections": [
        "WZjMusvlltJ-",
        "b8SOO25imNmH",
        "k6SGv9bWmSdO",
        "hotfzDDzmXab",
        "SljH-LLer00X",
        "yGlwGjPlpq5k",
        "xqZgmzbesAS-",
        "kMQUfJFDwEbK",
        "zy11uVCt5lBe",
        "mZ7OvOBe5-hj",
        "g90yjUSc6EWJ",
        "PPC6kmNQJSe9",
        "SXn2jqZF-ubQ",
        "vFv6ufEo_kiC",
        "Gj7psjcyANw1",
        "mB6tmJvIBQiF",
        "WAMduhi3C_wF",
        "2g6kYlan-YRl",
        "YAeOIcR5CECR",
        "Z2y25kZ8CRK1",
        "gf6kLMwxC3D9",
        "b9fuUGpNDpkC",
        "TPgK0kqEEQ_a",
        "xUWPWW6GGXri",
        "ler9C11xESxx",
        "ap8XWNQ3G6ii",
        "GgMEJ5neJGXn",
        "NGpLynzWJ_pv",
        "RxzNMLd_KGcN",
        "8lAKQnEZKJPR",
        "vCOROguDKLsv"
      ],
      "authorship_tag": "ABX9TyMtQ7L/t5oWAyiuraDfJgNB",
      "include_colab_link": true
    },
    "kernelspec": {
      "name": "python3",
      "display_name": "Python 3"
    },
    "language_info": {
      "name": "python"
    }
  },
  "cells": [
    {
      "cell_type": "markdown",
      "metadata": {
        "id": "view-in-github",
        "colab_type": "text"
      },
      "source": [
        "<a href=\"https://colab.research.google.com/github/davidbeard741/Google-Colab-Public/blob/main/chapter_5.ipynb\" target=\"_parent\"><img src=\"https://colab.research.google.com/assets/colab-badge.svg\" alt=\"Open In Colab\"/></a>"
      ]
    },
    {
      "cell_type": "markdown",
      "source": [
        "PH2514: Introduction to the Space Environment \\\\\n",
        "Summer, Academic Year 2023 \\\\\n",
        "July to September 2023 \\\\\n",
        "Textbook: Introduction to the Space Environment, R. C. Olsen \\\\\n",
        "\n",
        "\n",
        "<font size=\"1\">*Collapse* and *Expand* sections of **Chapter 5**</font>\n",
        "\n"
      ],
      "metadata": {
        "id": "szcK-yCh6Rgp"
      }
    },
    {
      "cell_type": "markdown",
      "source": [
        "# Chapter 5"
      ],
      "metadata": {
        "id": "8NsGWI_XlKB5"
      }
    },
    {
      "cell_type": "markdown",
      "source": [
        "## Introduction\n"
      ],
      "metadata": {
        "id": "WZjMusvlltJ-"
      }
    },
    {
      "cell_type": "markdown",
      "source": [
        "\n",
        "In Chapter 3 we learned about the solar wind. In chapter 4 we learned about Earth's magnetic field. The magnetosphere is that region of space around Earth dominated by Earth's magnetic field. It's shape, and other properties, are heavily influenced by the sun, in the form of the solar wind and solar events such as CMEs and flares. In this chapter we will study the various qualities attributed to the magnetosphere."
      ],
      "metadata": {
        "id": "aAiptwbpJ4q4"
      }
    },
    {
      "cell_type": "markdown",
      "source": [
        "## Learning Objectives"
      ],
      "metadata": {
        "id": "b8SOO25imNmH"
      }
    },
    {
      "cell_type": "markdown",
      "source": [
        "Upon completion of this chapter, you will have developed knowledge in the following topics:\n",
        "- The magnetic movement and mirroring, producing gyration and bounce motions.\n",
        "- Drifts caused by gradient and curvature.\n",
        "- Characteristic time scales for various motions.\n",
        "- McIlwain L and Invariant Latitude.\n",
        "- Magnetosphere structure.\n",
        "- Bow shock.  \n",
        "- Magnetopause.\n",
        "- The Plasmasphere and the Plasma Sheet.\n",
        "- Radiation Belts."
      ],
      "metadata": {
        "id": "-9HBQoBfJ8Eg"
      }
    },
    {
      "cell_type": "markdown",
      "source": [
        "## Learning Activities\n"
      ],
      "metadata": {
        "id": "k6SGv9bWmSdO"
      }
    },
    {
      "cell_type": "markdown",
      "source": [
        "- Read Chapter 5 of the textbook.  \n",
        "- Watch the lecture recordings. Navigate to the lectures and associated powerpoint files from the left hand menu.\n",
        "- As you read through the sections in the chapter, do the exercises in the corresponding online modules below.  \n",
        "- Do the homework.\n",
        "- Post any questions you may have about this chapter in Discussions Forum for \"Chapter 5 - The Magnetosphere\". Feel free to respond to any postings.\n",
        "- You must take the test to complete this chapter."
      ],
      "metadata": {
        "id": "aBNr8Qr6J_VB"
      }
    },
    {
      "cell_type": "markdown",
      "source": [
        "## **Module 5A** - Magnetic Coordinates and the Magnetic Field"
      ],
      "metadata": {
        "id": "hotfzDDzmXab"
      }
    },
    {
      "cell_type": "markdown",
      "source": [
        "Another coordinate system, the McIlwain L coordinate system,  is exercised here, and yet another chance to calculate the magnetic field, linking this chapter back to Chapter 4. Those calculations are then used in the next module, on adiabtic invariants.  The McIlwain system is slightly different from our earlier coordinate system in that it organizes plasma along magnetic field lines.  The equations here and in chapter 4 cannot be used interchangeably, so pay close attention to make sure you are using the right equation.  (Note, at the magnetic equator the equations will be equivalent)."
      ],
      "metadata": {
        "id": "mW5iMP185z12"
      }
    },
    {
      "cell_type": "markdown",
      "source": [
        "### Questions"
      ],
      "metadata": {
        "id": "SljH-LLer00X"
      }
    },
    {
      "cell_type": "markdown",
      "source": [
        "![diagram.gif](data:image/gif;base64,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)\n",
        "\n",
        "Magnetic Latitude\n",
        "- $0°$\n",
        "- $30°$\n",
        "- $60°$\n",
        "\n",
        "GEOMAGNETIC EQUATOR\n",
        "- $Λ$\n",
        "- $λ=65°$\n",
        "- $λ=60°$\n",
        "- $λ_m$, $L=6.6$ at $λ=0°$\n",
        "\n",
        "Above is a diagram showing how the magnetic field varies with different values of the magnetic latitude. The invariant latitude, denoted by $Λ_c$ does not change for a particular value of $L$. Recall this is where the field line reaches the surface of the Earth. Refer to page 119 in the text for example of a calculation involving this figure."
      ],
      "metadata": {
        "id": "wJ1MjSQ9mc0x"
      }
    },
    {
      "cell_type": "markdown",
      "source": [
        "#### 1. Calculate the Invariant Latitude $Λ_c$ for $L=3$. Refer to Equation 5.21 on pg 118."
      ],
      "metadata": {
        "id": "yGlwGjPlpq5k"
      }
    },
    {
      "cell_type": "markdown",
      "source": [
        "$\\displaystyle\n",
        "\\cos(Λ_c)=\\frac{1}{\\sqrt{L}} \\\\\n",
        "\\cos(Λ_c)=\\frac{1}{\\sqrt{3}} \\\\\n",
        "\\cos(Λ_c)=0.5773 \\\\\n",
        "Λ_c = 54.73^{\\circ} \\\\\n",
        "$"
      ],
      "metadata": {
        "id": "BFBxwnbKjiPo"
      }
    },
    {
      "cell_type": "code",
      "source": [
        "## Question 1\n",
        "import math\n",
        "import numpy as np\n",
        "\n",
        "def critical_angle(L):\n",
        "  \"\"\"Calculates the critical angle in degrees.\n",
        "\n",
        "  Args:\n",
        "    L: The distance in meters.\n",
        "\n",
        "  Returns:\n",
        "    The critical angle in degrees.\n",
        "  \"\"\"\n",
        "\n",
        "  lambda_c = 1 / np.sqrt(L)\n",
        "  return np.arccos(lambda_c) * 180 / np.pi\n",
        "\n",
        "\n",
        "def main():\n",
        "  \"\"\"Calculates the critical angle and prints it to the console.\"\"\"\n",
        "  L = 3\n",
        "  lambda_c = critical_angle(L)\n",
        "  print(\"L = {}\".format(L))\n",
        "  print(\"Lambda_c = {}\".format(lambda_c))\n",
        "if __name__ == \"__main__\":\n",
        "  main()"
      ],
      "metadata": {
        "id": "hO30W08ZqNxb"
      },
      "execution_count": null,
      "outputs": []
    },
    {
      "cell_type": "markdown",
      "source": [
        "#### 2. Calculate the magnetic field at the surface of the earth for the magnetic field line extending from $L=3$ (in degrees). You need the answer from problem 1, above, to do this. Use equation 4.5, or 5.22"
      ],
      "metadata": {
        "id": "xqZgmzbesAS-"
      }
    },
    {
      "cell_type": "markdown",
      "source": [
        "This problem is a little more subtle than it might seem - you have to be careful to solve for the magnetic field at the surface of the earth $\\left(r=1R_E \\right)$, at the latitude you obtained in the previous section.  As such, you are probably best off to use the formula from the previous chapter - the one on page 118 is a little harder to manipulate.  Use Equation 4.5 from page 92. \\\\\n",
        "\n",
        "$\\displaystyle\n",
        "B = \\frac{\\left(3.1 \\times 10^{-5} \\right) \\sqrt{1+3 \\sin^2(54.73^{\\circ})}}{1^3} \\; Tesla \\\\\n",
        "B= 5.37 \\times 10^{-5} \\; Tesla \\\\\n",
        "$\n"
      ],
      "metadata": {
        "id": "CARprtP4klsd"
      }
    },
    {
      "cell_type": "code",
      "source": [
        "## Question 2\n",
        "\n",
        "import math\n",
        "import scipy.constants as sc\n",
        "import numpy as np\n",
        "\n",
        "def magnetic_field(lambda_c_radians):\n",
        "  \"\"\"Calculates the magnetic field in Tesla.\n",
        "\n",
        "  Args:\n",
        "    lambda_c_radians: The critical angle in radians.\n",
        "\n",
        "  Returns:\n",
        "    The magnetic field in Tesla.\n",
        "  \"\"\"\n",
        "\n",
        "  lambda_c_degrees = 54.735610317245346\n",
        "  lambda_c_radians = lambda_c_degrees * np.pi / 180\n",
        "  B = 3.1e-5 * np.sqrt(1 + 3 * np.sin(lambda_c_radians)**2) / 1**3\n",
        "  return B\n",
        "\n",
        "\n",
        "def main():\n",
        "  \"\"\"Calculates the magnetic field and prints it to the console.\"\"\"\n",
        "  lambda_c_degrees = 54.735610317245346\n",
        "  lambda_c_radians = lambda_c_degrees * np.pi / 180\n",
        "  B = magnetic_field(lambda_c_radians)\n",
        "  print(\"Lambda_c = {} degrees\".format(lambda_c_degrees))\n",
        "  print(\"Lambda_c = {} radians\".format(lambda_c_radians))\n",
        "  print(\"B = {}\".format(B))\n",
        "\n",
        "\n",
        "if __name__ == \"__main__\":\n",
        "  main()\n",
        "\n"
      ],
      "metadata": {
        "id": "JZEHYsmqsPka"
      },
      "execution_count": null,
      "outputs": []
    },
    {
      "cell_type": "markdown",
      "source": [
        "#### 3. Calculate the magnetic field at $L=3$ at the magnetic equator."
      ],
      "metadata": {
        "id": "kMQUfJFDwEbK"
      }
    },
    {
      "cell_type": "markdown",
      "source": [
        "$\\displaystyle\n",
        "B = B_{os}{R_⊕}^3 \\frac{\\sqrt{1+3\\sin^2(λ)}}{r^3} \\\\\n",
        "B = \\frac{B_{os} \\sqrt{1+3\\sin^2(λ)}}{\\left(\\frac{r}{R_⊕}\\right)^3} \\\\\n",
        "\\text{Because } λ=0 \\text{ and } r=3R_E \\\\\n",
        "B = \\frac{3.1 \\times 10^{-5} \\sqrt{1}}{3^3} \\; Tesla \\\\\n",
        "B=1.15 \\times 10^{-6} \\; Tesla\n",
        "$"
      ],
      "metadata": {
        "id": "b0Ru1okLlohl"
      }
    },
    {
      "cell_type": "code",
      "source": [
        "## Question 3\n",
        "import math\n",
        "import numpy as np\n",
        "\n",
        "def magnetic_field(B_os, R, r, lambda_c):\n",
        "  \"\"\"Calculates the magnetic field in Tesla.\n",
        "\n",
        "  Args:\n",
        "    B_os: The solar magnetic field strength.\n",
        "    R: The radius of the sun.\n",
        "    r: The distance from the sun in kilometers.\n",
        "    lambda_c: The critical angle in radians.\n",
        "    R_earth is a constant that is defined in a previous problem, it is equal to 6380000.0\n",
        "\n",
        "  Returns:\n",
        "    The magnetic field in Tesla.\n",
        "  \"\"\"\n",
        "  R_earth = 6.38e6  # meters\n",
        "  r = 3 * R_earth\n",
        "  B = (B_os * np.sqrt(1 + 3 * np.sin(lambda_c)**2)) / (r/R_earth)**3\n",
        "  return B\n",
        "\n",
        "\n",
        "def main():\n",
        "  \"\"\"Calculates the magnetic field and prints it to the console.\"\"\"\n",
        "  B_os = 31.3e-6\n",
        "  R_earth = 6.38e6  # meters\n",
        "  r = 3 * R_earth\n",
        "  lambda_c = 0\n",
        "  B = magnetic_field(B_os, R_earth, r, lambda_c)\n",
        "  print(\"B =\", f\"{B:.2e}\")\n",
        "\n",
        "if __name__ == \"__main__\":\n",
        "  main()\n"
      ],
      "metadata": {
        "id": "CL0sDUcuyGUu"
      },
      "execution_count": null,
      "outputs": []
    },
    {
      "cell_type": "markdown",
      "source": [
        "## **Module 5B** - The Adiabatic Invariants"
      ],
      "metadata": {
        "id": "zy11uVCt5lBe"
      }
    },
    {
      "cell_type": "markdown",
      "source": [
        "Two fundamental elements of space plasma physics are exercised here - the magnetic mirroring and drift. The magnetic moment (first adiabatic invariant) defines the magnetic mirroring phenomenon. The magnetic \"bounce\" between hemispheres provides the second invariant (basically the time, but really the path length). The third is associated with the period associated with the azimuthal drift, largely driven by the gradient-B drift."
      ],
      "metadata": {
        "id": "H4kRt0wv6A2C"
      }
    },
    {
      "cell_type": "markdown",
      "source": [
        "### Questions"
      ],
      "metadata": {
        "id": "mZ7OvOBe5-hj"
      }
    },
    {
      "cell_type": "markdown",
      "source": [
        "#### 1. Magnetic moment and mirroring - using the numbers from Module 5A."
      ],
      "metadata": {
        "id": "g90yjUSc6EWJ"
      }
    },
    {
      "cell_type": "markdown",
      "source": [
        "Calculate the pitch angle $\\alpha$ which defines the loss cone for particles at $L=3$. This is the pitch angle at the equator, which maps to 90° at the mirror point.\n",
        "\n",
        "$\\displaystyle\n",
        "B_{eq}(L=3) = 1.15 \\times 10^{-6} \\text{ T} \\\\\n",
        "B_m(L=3) = 5.37 \\times 10^{-5} \\text{ T} \\\\\n",
        "\\left(\\frac{\\sin^2(α)}{1.5\\times 10^{-6} \\; T} \\right)= \\left(\\frac{\\sin^2(90^{\\circ})}{5.37 \\times 10^{-5} \\; T} \\right) \\\\\n",
        "\\text{taking the ratios of the two field strengths} \\\\\n",
        "\\sin^2(α)=\\frac{1.15 \\times 10^{-6} \\; T}{5.37 \\times 10^{-5} \\; T}=\\frac{1}{47} = 0.214 \\\\\n",
        "\\sin(α)=0.1463 \\\\\n",
        "α = 8.4^{\\circ}\n",
        "$\n",
        "\\\n",
        "\\\n",
        "This is the loss cone angle.  Charged particles with pitch angles larger than $8.4^{\\circ}$ at the magnetic equator will mirror above the atmosphere.  They are magnetically trapped, and will bounce between the magnetic mirror points indefinitely.  Charged particles with equatorial pitch angles less than this will hit the atmosphere and be lost, hence the term loss cone.\n"
      ],
      "metadata": {
        "id": "DARUAiXOzjm9"
      }
    },
    {
      "cell_type": "code",
      "source": [
        "# Question 1\n",
        "import math\n",
        "import numpy as np\n",
        "\n",
        "def calculate_alpha():\n",
        "  \"\"\"Calculates the pitch angle alpha.\n",
        "\n",
        "  Returns:\n",
        "    The pitch angle in degrees.\n",
        "  \"\"\"\n",
        "\n",
        "  # Define constants\n",
        "  sin_squared_alpha = 1.15e-6 / 5.37e-5\n",
        "  sin_alpha = np.sqrt(sin_squared_alpha)\n",
        "\n",
        "  # Calculate alpha\n",
        "  alpha = np.degrees(np.arcsin(sin_alpha))\n",
        "\n",
        "  return alpha\n",
        "\n",
        "if __name__ == \"__main__\":\n",
        "  alpha = calculate_alpha()\n",
        "  print(\"Pitch angle: {} degrees\".format(alpha))\n"
      ],
      "metadata": {
        "id": "OtdXKf11hehQ"
      },
      "execution_count": null,
      "outputs": []
    },
    {
      "cell_type": "markdown",
      "source": [
        "#### 2. Adiabatic drift: (grad B drift)"
      ],
      "metadata": {
        "id": "PPC6kmNQJSe9"
      }
    },
    {
      "cell_type": "markdown",
      "source": [
        "\n",
        "Calculate the drift velocity for a $1$ $MeV$ proton at $90^\\circ$ pitch angle, at the magnetic equator, with an altitude of $2$ $R_E$.  Not trying to be too tricky here, but note that the radius is not the altitude.\n",
        "\n",
        "$\\displaystyle\n",
        "\\overrightarrow{V_D}=\\left(\\frac{K_{\\perp}}{qB}\\right)\\left(\\frac{\\left(\\overrightarrow{B}\\times\\nabla B\\right)}{B^2}\\right) \\\\\n",
        "\\\\\n",
        "\\nabla B=-\\frac{3}{r}B\\widehat{r}(λ=0) \\\\\n",
        "\\\\\n",
        "\\frac{\\overrightarrow{B}\\times\\nabla B}{B^2} |_{λ=0}=\\frac{3}{r}-\\widehat{θ}\\times \\widehat{r}) = -\\frac{3}{r}\\widehat{φ}\\\\\n",
        "\\\\\n",
        "\\left|{V_D}\\right|=-\\frac{3}{r}\\frac{K_{\\perp}}{qB} \\\\\n",
        "\\left|{V_D}\\right|=\\frac{3}{LR_☉}\\left(\\frac{K_{\\perp}}{q}\\right)\\frac{L^3}{B_o} \\\\\n",
        "\\text{Here, the term} \\frac{K_{\\perp}}{q} \\text{can be taken as the energy in eV}\\\\\n",
        "\\left|{V_D}\\right|= \\frac{3L^2}{R_☉B_0}\\left(\\frac{K_{\\perp}}{q}\\right)\\\\\n",
        "\\left|{V_D}\\right|= \\frac{3\\times 3^3}{\\left(6.37\\times 10^6 m\\right) \\left(3.1 \\times 10^-5 T \\right)} \\times 10^6 eV \\\\\n",
        "\\left|{V_D}\\right|= \\frac{27}{197.5} \\times 10^6 \\\\\n",
        "\\left|{V_D}\\right|= 1.37 \\times 10^5 \\frac{m}{s}\n",
        "\\\\\n",
        "\\left|{V_D}\\right|= 137 \\frac{km}{s}\n",
        "\\\\\n",
        "$"
      ],
      "metadata": {
        "id": "pEXecDK0xezk"
      }
    },
    {
      "cell_type": "code",
      "source": [
        "import numpy as np\n",
        "\n",
        "def V_D_magnitude(K_perp, q, B, r, L, B_0):\n",
        "    # Given equations\n",
        "    nabla_B = -3/r * B\n",
        "    B_cross_nablaB_over_B2 = 3/r\n",
        "    V_D_magnitude_part = -3/r * K_perp / (q * B)\n",
        "\n",
        "    # Using your provided values for B, L, and B_0\n",
        "    V_D_value = 3 * L**2 / (R_sun * B_0) * (K_perp / q)\n",
        "    return V_D_value\n",
        "\n",
        "# Constants and given values\n",
        "R_sun = 6.37e6  # in meters\n",
        "B_0 = 3.1e-5  # in Tesla\n",
        "L = 3  # Assuming L is 3 based on your equations\n",
        "K_perp_over_q = 1e6  # 1 million eV in Joules\n",
        "\n",
        "# Calculating V_D magnitude\n",
        "V_D = V_D_magnitude(K_perp_over_q, 1, 1, 1, L, B_0)  # Here I've used placeholders for K_perp, q, B, and r. Replace them with actual values as needed.\n",
        "\n",
        "# Convert V_D from m/s to km/s\n",
        "V_D_kms = V_D / 1e3\n",
        "\n",
        "print(f\"V_D = {V_D} m/s\")\n",
        "print(f\"V_D in km/s = {V_D_kms} km/s\")\n"
      ],
      "metadata": {
        "id": "Vq3zC3YX-Bb1"
      },
      "execution_count": null,
      "outputs": []
    },
    {
      "cell_type": "markdown",
      "source": [
        "## **Module 5C** - The Magnetosphere\n",
        "Much of the material in the text at this point is descriptive. In this section we will look at the magnetopause, and the plasmasphere and plasma sheet.  Two calculations are possible - the magnetopause standoff distance, and the plasmapause location. The former is exercised here.\n"
      ],
      "metadata": {
        "id": "nmAMEe6E37sX"
      }
    },
    {
      "cell_type": "markdown",
      "source": [
        "#### [NASA's THEMIS Discovers New Process that Protects Earth from Space Weather](http://www.nasa.gov/content/goddard/themis-discovers-new-process-that-protects-earth-from-space-weather/#.Uxkc115NQht). *March 6, 2014*\n",
        "\n"
      ],
      "metadata": {
        "id": "SXn2jqZF-ubQ"
      }
    },
    {
      "cell_type": "markdown",
      "source": [
        "**1. Introduction:**\n",
        "- Earth is constantly influenced by solar material streaming towards it.\n",
        "- Earth's magnetosphere, a giant magnetic bubble, acts as a shield, but the effectiveness varies based on different conditions such as constant solar wind or coronal mass ejections (CMEs).\n",
        "- The configuration of the magnetosphere sometimes allows significant solar material to enter, and understanding these configurations is essential for safeguarding our spacecraft against space weather.\n",
        "\n",
        "**2. New Discovery:**\n",
        "- A study found that, under certain conditions, a dense particle pool typically found deep within the magnetosphere can extend outward and help block incoming solar material.\n",
        "- Brian Walsh of NASA's Goddard Space Flight Center uses an analogy, likening this mechanism to stacking furniture against a door to prevent a monster from entering.\n",
        "\n",
        "**3. Observations and Evidence:**\n",
        "- The findings were based on observations made during a moderate solar storm on Jan. 17, 2013.\n",
        "- During this storm, the CME impacted Earth's magnetosphere for several hours, causing magnetic fields of both the CME and Earth to realign in a process termed \"magnetic reconnection,\" which allowed energy and solar material to penetrate the magnetosphere.\n",
        "- NASA's THEMIS spacecraft fleet observed this interaction while passing through the magnetosphere's boundary.\n",
        "\n",
        "**4. The Role of the Plasmasphere:**\n",
        "- Scientists also studied the plasmasphere, a sphere of cold dense gas located at the top of Earth's atmosphere. This gas is charged and known as plasma.\n",
        "- By monitoring GPS signals which travel at varying speeds through the plasmasphere, researchers can deduce its properties.\n",
        "- During the observation, a unique \"plume\" or \"tongue\" of this plasmasphere material extended to the point where the CME contacted the magnetopause (the outer boundary of the magnetosphere).\n",
        "- Multiple THEMIS observations confirmed that this plume dramatically altered the characteristics of the magnetic reconnection region.\n",
        "\n",
        "**5. Implications of the Findings:**\n",
        "- The magnetosphere’s involvement in the process is contingent on the duration of the magnetic reconnection.\n",
        "- A prolonged magnetic reconnection allows the plasmasphere to extend out and add an additional protective layer, curbing the magnetic reconnection.\n",
        "- David Sibeck, the project scientist for THEMIS at NASA Goddard, emphasized the significance of the plasmasphere’s protective surge during extended magnetic reconnection events.\n",
        "\n",
        "**6. Broader Context:**\n",
        "- Scientists aim to enhance their understanding of Earth's space weather system.\n",
        "- Observations from multiple points, such as the combination of THEMIS and GPS data, are increasingly vital to study the effects of the sun on Earth.\n",
        "- Such comprehensive observations may eventually improve space weather predictions, offering invaluable insights for spacecraft operators, analogous to terrestrial weather forecasts for people on Earth."
      ],
      "metadata": {
        "id": "jUcCk4VW_blI"
      }
    },
    {
      "cell_type": "markdown",
      "source": [
        "#### [Study shows how Earth slows the solar wind to a gentle breeze.](https://www.spacedaily.com/reports/Study_shows_how_Earth_slows_the_solar_wind_to_a_gentle_breeze_999.html) *June 1, 2018 *"
      ],
      "metadata": {
        "id": "vFv6ufEo_kiC"
      }
    },
    {
      "cell_type": "markdown",
      "source": [
        "**1. Introduction:**\n",
        "- Earth moves through the solar wind at supersonic speed while orbiting the sun.\n",
        "- The solar wind is a fast stream of charged particles (plasma) emitted from the sun's outer layers.\n",
        "- Earth's magnetic field protects its atmosphere from direct bombardment by these particles.\n",
        "\n",
        "**2. Earth's Protective Bow Shock:**\n",
        "- Similar to the bow-shaped wave created by a motorboat moving through water, Earth creates a \"bow shock\" as it moves through the solar wind.\n",
        "- The main function of this bow shock is to convert the energy from the solar wind into heat stored in electrons and ions. The mechanism for this process was previously unclear.\n",
        "\n",
        "**3. New Findings:**\n",
        "- A study led by the University of Maryland made the first observations of electron heating in Earth's bow shock.\n",
        "- It was discovered that electrons from the solar wind accelerate to very high speeds upon encountering the bow shock, becoming unstable and breaking down.\n",
        "- This breakdown process decreases the speed of the electrons and converts their energy into heat.\n",
        "\n",
        "**4. Implications:**\n",
        "- The findings provide a deeper understanding of Earth's magnetic field and its capability to shield the planet from harmful particles and radiation.\n",
        "- The research was published in the journal Physical Review Letters on May 31, 2018.\n",
        "\n",
        "**5. Explanation by the Lead Author:**\n",
        "- Li-Jen Chen, the lead author, explained the phenomenon by comparing it to a strong wind on Earth. She states that while a strong wind could knock someone over, the bow shock reduces the force of the solar wind to a gentle breeze, protecting the Earth.\n",
        "\n",
        "**6. Data Source: NASA's MMS Mission:**\n",
        "- Data was gathered from NASA's Magnetospheric Multiscale (MMS) mission, which consists of four identical satellites equipped with instruments to study Earth's magnetic field's interaction with the solar wind.\n",
        "- The satellites provided three-dimensional measurements every 30 milliseconds, offering detailed insights within the bow shock layer.\n",
        "\n",
        "**7. Importance of the MMS Measurements:**\n",
        "- Thomas Moore from NASA's Goddard Space Flight Center highlighted the significance of the MMS's fast measurements. These measurements allowed the team to observe the electron heating process directly, providing insights into the underlying mechanism.\n",
        "\n",
        "**8. New Perspective on Electron Heating:**\n",
        "- Previously, it was believed that the bow shock generates heat without direct collisions between electrons, ruling out friction as the heating cause.\n",
        "- The new observations challenge current theories on electron heating, particularly the observed acceleration speeds of the solar wind electron stream by the bow shock.\n",
        "\n",
        "**9. Unexpected Data Capture:**\n",
        "- Usually, the MMS satellites orbit closer to Earth and miss the bow shock. However, an unexpected surge of solar wind brought the bow shock nearer to Earth, allowing for valuable data collection.\n",
        "- The electron stream's acceleration by the shock took only 90 milliseconds to destabilize and fully break down.\n",
        "\n",
        "**10. Broader Significance and Future Steps:**\n",
        "- Understanding electron heating is crucial not only for Earth's protection but also for space exploration, including satellite safety and potentially exploring other planets.\n",
        "- The findings pave the way for computer simulations, further space observations, and lab experiments on electron heating.\n",
        "- Chen emphasized that this study is unique as measurements came before simulations or theories, suggesting that the latter now needs to catch up with these groundbreaking observations."
      ],
      "metadata": {
        "id": "4LiOFw7L_1VQ"
      }
    },
    {
      "cell_type": "markdown",
      "source": [
        "#### [Uranus’ Strange Magnetosphere Switches Open and Closed, Letting in Solar Wind](https://bigthink.com/hard-science/uranus-strange-magnetosphere-switches-open-and-closed-letting-in-solar-wind/). *July 6, 2017*"
      ],
      "metadata": {
        "id": "Gj7psjcyANw1"
      }
    },
    {
      "cell_type": "markdown",
      "source": [
        "**1. Introduction:**\n",
        "- Uranus has an unusual magnetosphere that switches between open and closed states with each rotation of the planet, exposing it to solar winds.\n",
        "- Research was conducted by the Georgia Institute of Technology, USA.\n",
        "- The findings could provide insights into distant systems and refine the search for alien life.\n",
        "\n",
        "**2. Understanding Magnetospheres:**\n",
        "- A magnetosphere is a region around an object where charged particles are influenced by its magnetic field.\n",
        "- It protects planets from solar wind, a stream of charged particles from the sun. Without a magnetosphere, life and liquid water would be threatened by radiation.\n",
        "- Earth’s magnetosphere remains stable due to its alignment with the planet's axis, which tilts about 23 degrees.\n",
        "\n",
        "**3. Uranus’ Peculiar Magnetosphere:**\n",
        "- Uranus has a unique tilt of approximately 98 degrees, causing it to rotate on its side relative to its orbit around the sun.\n",
        "- Its magnetosphere tilts 60 degrees relative to the axial tilt, making it behave like an unstable top about to fall.\n",
        "- This results in the magnetosphere switching between open and closed states every 17 hours and 14 minutes (a Uranus day).\n",
        "\n",
        "**4. Effects on Uranus:**\n",
        "- When closed, Uranus' magnetosphere deflects solar wind like an umbrella.\n",
        "- When open, it allows charged particles to bombard the planet.\n",
        "- Carol Paty of the Georgia Institute of Technology described the magnetosphere as fast-tumbling, likening it to a child doing cartwheels. Due to this dynamic, the magnetosphere changes states daily.\n",
        "\n",
        "**5. Comparison with Earth:**\n",
        "- Earth’s magnetosphere occasionally allows a small amount of solar wind, resulting in auroras.\n",
        "- In contrast, Uranus possibly witnesses spectacular auroras daily due to its frequently changing magnetosphere.\n",
        "\n",
        "**6. Previous Knowledge and New Insights:**\n",
        "- Uranus’ peculiar magnetosphere was first identified in 1986 when Voyager 2 passed the planet.\n",
        "- The new understanding of its rotation and magnetosphere was presented by Carol Paty and Xin Cao in the Journal of Geophysical Research: Space Physics.\n",
        "\n",
        "**7. Broader Implications:**\n",
        "- The research offers insights into distant systems beyond Uranus, improving our understanding of various cosmic mechanisms.\n",
        "- George Hospodarsky of the University of Iowa emphasizes that understanding Uranus helps validate theories about other systems.\n",
        "\n",
        "**8. Relevance to Alien Life Search:**\n",
        "- Many exoplanets discovered seem to be ice giants similar in size to Uranus.\n",
        "- Xin Cao, the study leader, suggests that unique magnetospheres and misaligned magnetic fields might be typical for planets.\n",
        "- Understanding how such magnetospheres protect exoplanets from stellar radiation is crucial for assessing the habitability of newly discovered worlds."
      ],
      "metadata": {
        "id": "Pu4BT8zGAZWI"
      }
    },
    {
      "cell_type": "markdown",
      "source": [
        "#### [The Plasmasphere We can See! ](https://plasmasphere.nasa.gov/regions.html)"
      ],
      "metadata": {
        "id": "mB6tmJvIBQiF"
      }
    },
    {
      "cell_type": "markdown",
      "source": [
        "**1. Introduction:**\n",
        "- The NASA satellite, IMAGE, launched in March 2000, was equipped with instruments to measure Earth's plasmasphere and magnetosphere.\n",
        "- Scientists have been able to identify several features of the plasmasphere using data from this satellite.\n",
        "\n",
        "**2. Plasmasphere Rotation:**\n",
        "- Contrary to popular belief, the plasmasphere does not corotate with Earth.\n",
        "- Earth takes 24 hours for a full rotation, while the plasmasphere takes an average of 27 hours.\n",
        "- This means Earth spins faster than the plasmasphere.\n",
        "\n",
        "**3. Features of the Plasmasphere:**\n",
        "\n",
        "- **Plume:** A tail-like feature caused partly by Earth's rotation and the plasmasphere's slower dragging rotation.\n",
        "\n",
        "- **Aurora:** Also known as the \"northern lights,\" they are visible around Earth's poles, producing a bright ring seen from space. They are present on both the North and South poles.\n",
        "\n",
        "- **Plasmapause:** This is the \"edge\" of the plasmasphere, characterized by a sharp drop in plasma density.\n",
        "\n",
        "- **Fingers:** These are long, thin areas where plasma densities are much lower, giving a finger-like appearance.\n",
        "\n",
        "- **Crenulations:** These appear like spikes in plasma density and often look as though someone took a bite out of the plasmasphere.\n",
        "\n",
        "- **Channels:** Formed post-storm during calming space weather conditions. They appear when plumes wrap around the main body of the plasmasphere, appearing as long, narrow low-density regions in the outer part.\n",
        "\n",
        "- **Notches:** Large, low-density cavities in the plasmasphere that can be very narrow or broad, possibly holding a volume the size of Earth. They can extend up to 2 Earth radii from Earth's center.\n",
        "\n",
        "- **Shoulder:** Rounded shapes on the outer boundary of the plasmasphere (plasmapause) that result from temporary blocking of the solar wind electric field penetrating the inner magnetosphere.\n",
        "\n",
        "- **Shadow:** Not an actual feature of the plasmasphere but represents the region where Earth blocks sunlight. The plasma in this shadow does not scatter sunlight, making it appear dark. Plasma above and below the shadow is illuminated and can sometimes be seen.\n",
        "\n",
        "**4. Conclusion:**\n",
        "The IMAGE satellite has provided a detailed visualization of the Earth's plasmasphere, revealing its unique features and characteristics."
      ],
      "metadata": {
        "id": "Z_uCpeU-BYWc"
      }
    },
    {
      "cell_type": "markdown",
      "source": [
        "### Questions"
      ],
      "metadata": {
        "id": "-7AQTtPC4YzH"
      }
    },
    {
      "cell_type": "markdown",
      "source": [
        "#### 1. Using the principle of pressure balance, calculate the magnetopause standoff distance using the following values\n"
      ],
      "metadata": {
        "id": "nHOus_jL4yn2"
      }
    },
    {
      "cell_type": "markdown",
      "source": [
        "$\\displaystyle\n",
        "B_{os} = 3.1 \\times 10^{-5} \\text{ T} \\\\\n",
        "n = 10^7 \\; \\text{ m}^{-3} = 10 \\; \\text{cm}^{-3} \\\\\n",
        "m = 1.67 \\times 10^{-27} \\text{ kg} \\\\\n",
        "v = 500 \\; \\frac{\\text{km}}{\\text{s}} = 5 \\times 10^5 \\; \\frac{\\text{m}}{\\text{s}}  \\\\\n",
        "μ_0 = 4π\\times10^{-7}\n",
        "$"
      ],
      "metadata": {
        "id": "GLgsbH6VCE7X"
      }
    },
    {
      "cell_type": "markdown",
      "source": [
        "**Answer:**\n",
        "\n",
        "$\\displaystyle\n",
        "\\text{equation 5.2}\\\\\n",
        "P_1 + \\dfrac{B_1^2}{2 \\mu_0} = P_2 + \\dfrac{B_2^2}{2 \\mu_0}\n",
        "\\\\\n",
        "\\text{Assume:}\n",
        "\\\\\n",
        "\\dfrac{B_1^2}{2 \\mu_0} = P_2 \\; \\text{are zero} \\\\\n",
        "\\\\\n",
        "\\text{Note:}\n",
        "\\\\\n",
        "P_1 = nmV^2\n",
        "\\\\\n",
        "B_2 = 2 \\dfrac{B_{os}}{(\\dfrac{r}{R_{base}})^3}\n",
        "\\\\\n",
        "\\dfrac{r}{R_{earch}} = L\n",
        "\\\\\n",
        "\\\\\n",
        "\\text{Make these changes into equation 5.24 and note that}\n",
        "\\\\ m = \\text{mass of the proton} \\text{ and }\n",
        "\\\\ V = \\text{Velocity of the solar wind}\n",
        "\\\\\n",
        "nm_pV_{sw}^2 = \\dfrac{4 B_{os}^2}{2 \\mu_0 L^6}\n",
        "\\\\\n",
        "L^6 = \\dfrac{4 B_{os}^2}{2 \\mu_0 nm_pV_{sw}^2}\n",
        "\\\\\n",
        "L^6 = \\frac{4 \\times \\left( 3.1\\times 10^{-3}\\right)^2}{ \\left( 8 \\times π \\times 10^{-7} \\right) \\times \\left( 1.67\\times10^{-27} \\right) \\times \\left( 5 \\times 10^5\\right)^2 } = \\frac{3.84\\times10^{-8}}{1.05\\times 10^{-14}} = 3.66 \\times 10^5  \\\\\n",
        "L = \\left( 3.66 \\times 10^5 \\right)^{\\frac{1}{6}}\\\\\n",
        "L \\approx 8.46\n",
        "$"
      ],
      "metadata": {
        "id": "3FP53BKU5jmO"
      }
    },
    {
      "cell_type": "code",
      "source": [
        "import math\n",
        "\n",
        "def magnetopause_distance(B_os, n, m, v, mu_0):\n",
        "    \"\"\"\n",
        "    Calculate the magnetopause standoff distance L.\n",
        "\n",
        "    Parameters:\n",
        "    - B_os: Magnetic field\n",
        "    - n: Number density\n",
        "    - m: Mass of the proton\n",
        "    - v: Velocity of the solar wind\n",
        "    - mu_0: Permeability of free space\n",
        "\n",
        "    Returns:\n",
        "    - L: magnetopause standoff distance\n",
        "    \"\"\"\n",
        "\n",
        "    # P_1 = nmV^2\n",
        "    P_1 = n * m * v**2\n",
        "\n",
        "    # nm_pV_sw^2 = (4 * B_os^2) / (2 * mu_0 * L^6)\n",
        "    # => L^6 = (4 * B_os^2) / (2 * mu_0 * nm_pV_sw^2)\n",
        "    L_sixth = (4 * B_os**2) / (2 * mu_0 * n * m * v**2)\n",
        "\n",
        "    # Taking the sixth root to find L\n",
        "    L = L_sixth**(1/6)\n",
        "\n",
        "    return L\n",
        "\n",
        "# Constants\n",
        "B_os = 3.1e-5  # Tesla\n",
        "n = 1e7  # m^-3\n",
        "m = 1.67e-27  # kg\n",
        "v = 5e5  # m/s\n",
        "mu_0 = 4*math.pi*1e-7  # Tm/A or H/m\n",
        "\n",
        "# Compute L\n",
        "L = magnetopause_distance(B_os, n, m, v, mu_0)\n",
        "print(f\"L = {L:.2f}\")\n"
      ],
      "metadata": {
        "id": "M3xesiFeRHdP"
      },
      "execution_count": null,
      "outputs": []
    },
    {
      "cell_type": "markdown",
      "source": [
        "#### 2.  What are the densities and temperatures of the Plasmasphere and plasma sheet (in particles/ cm3 and eV respectively)?\n"
      ],
      "metadata": {
        "id": "WAMduhi3C_wF"
      }
    },
    {
      "cell_type": "markdown",
      "source": [
        "\n",
        "*   Plasmasphere\n",
        "  *   Cold, dense plasma ( $ T \\thinspace \\text{~} \\thinspace 0.1-0.5 \\thinspace eV,\\thinspace n \\text{~} 10^2-10^4 \\thinspace cm^{-3} $ )\n",
        "*   Plasma Sheet\n",
        "  *   Hot, tenuous plasma ( $ T \\thinspace \\text{~} \\thinspace 1-10 \\thinspace keV,\\thinspace n \\text{~} 1 \\thinspace cm^{-3} $ )"
      ],
      "metadata": {
        "id": "OW74HVQnXXrX"
      }
    },
    {
      "cell_type": "markdown",
      "source": [
        "#### 3. Qualitatively, what is the ion composition of the plasmasphere (starting with the greatest concentration and decreasing)?"
      ],
      "metadata": {
        "id": "2g6kYlan-YRl"
      }
    },
    {
      "cell_type": "markdown",
      "source": [
        "hydrogen, helium, oxygen"
      ],
      "metadata": {
        "id": "pVACcnXo-iiR"
      }
    },
    {
      "cell_type": "markdown",
      "source": [
        "## **Module 5D** - The Ring Current and Radiation Belts"
      ],
      "metadata": {
        "id": "YAeOIcR5CECR"
      }
    },
    {
      "cell_type": "markdown",
      "source": [
        "The process which energizes the radiation belts is not well understood, though it is actively studied.\n",
        "\n",
        "We believe whistlers are involved in the decay process. As you open the package file for the module, above, it will play a whistler \"wav\" file.\n",
        "\n",
        "The link below discusses some new information discovered by NASA's Van Allen probes.  These twin satellites were launched in 2012 to study the Van Allen belts.  They were deactivated in 2019 when they ran out of propellant.  They will remain in orbit as debris, until sometime in the 2030s."
      ],
      "metadata": {
        "id": "IqaLLvTMCL2Q"
      }
    },
    {
      "cell_type": "markdown",
      "source": [
        "### [NASA's Van Allen Probes Show How to Accelerate Electrons](https://www.nasa.gov/content/goddard/van-allen-probes-shows-how-to-accelerate-electrons). *July 15, 2014*"
      ],
      "metadata": {
        "id": "Z2y25kZ8CRK1"
      }
    },
    {
      "cell_type": "markdown",
      "source": [
        "**1. Introduction:**\n",
        "- The Van Allen radiation belts are two vast donuts of radiation surrounding Earth.\n",
        "- Understanding their formation and behavior is crucial for space weather scientists.\n",
        "\n",
        "**2. Van Allen Probes:**\n",
        "- Launched in 2012, these nearly identical spacecraft were aimed to study the Van Allen radiation belts.\n",
        "- While the inner belt is fairly stable, the outer belt changes in multiple ways that are not entirely understood.\n",
        "\n",
        "**3. Particle Acceleration:**\n",
        "- Some particles in the outer belt travel at near light speed. The mechanism for their acceleration has been a mystery.\n",
        "- New data suggests a two-step process:\n",
        "  1. An initial mechanism gives particles a boost.\n",
        "  2. Electromagnetic waves called \"Whistlers\" further accelerate them to high speeds.\n",
        "\n",
        "**4. Importance of Understanding:**\n",
        "- Such processes may be prevalent around other planets or the sun.\n",
        "- High-speed particles can damage spacecraft electronics and pose risks to astronauts.\n",
        "\n",
        "**5. Theories about Energetic Particles:**\n",
        "- Two main theories:\n",
        "  1. Particles drift from further out, around 400,000 miles, gathering energy.\n",
        "  2. An inherent mechanism in the area speeds up the particles.\n",
        "- After two years of observation, the Van Allen Probes data supports the second theory.\n",
        "\n",
        "**6. Whistler Waves:**\n",
        "- Once particles reach energies of 100 keV, they sync with electromagnetic waves that further speed them up, like a swing being pushed.\n",
        "- This theory had been accepted, but a new explanation for the initial push of energy has been proposed.\n",
        "\n",
        "**7. Time Domain Structures:**\n",
        "- Identified by Forrest Mozer and his team as short-duration electric field pulses parallel to magnetic fields in the radiation belts.\n",
        "- These pulses initially accelerate particles along the magnetic fields.\n",
        "- Previously, it was thought that the energy from this mechanism wasn't enough for Whistlers to work on, but new data and simulations have proven otherwise.\n",
        "\n",
        "**8. Conclusion:**\n",
        "- The combination of these mechanisms explains how particles are accelerated to near-light speeds in the Van Allen belts.\n",
        "- The Van Allen Probes, in their unique orbit, have provided invaluable insights into this acceleration process.\n",
        "- Understanding this can help protect spacecraft and astronauts from these high-speed particles.\n",
        "\n",
        "**9. Credits:**\n",
        "- The Johns Hopkins Applied Physics Laboratory built and operates the Van Allen Probes.\n",
        "- The mission is part of NASA's Living With a Star program and is managed by NASA's Goddard Space Flight Center."
      ],
      "metadata": {
        "id": "jF-Awp1JCe_I"
      }
    },
    {
      "cell_type": "markdown",
      "source": [
        "### [NASA Discovers New Radiation Belt Around Earth](https://www.space.com/20004-earth-radiation-belt-discovery.html). February 28, 2013"
      ],
      "metadata": {
        "id": "gf6kLMwxC3D9"
      }
    },
    {
      "cell_type": "markdown",
      "source": [
        "**1. Introduction:**\n",
        "- A previously unknown ring of radiation surrounded Earth briefly before being almost entirely destroyed by an interplanetary shock wave.\n",
        "\n",
        "**2. Discovery:**\n",
        "- NASA's twin Van Allen space probes, studying Earth's radiation belts, made this discovery.\n",
        "- The new radiation belt is temporary but highlights the vast unknowns about outer space, even regions near Earth.\n",
        "\n",
        "**3. Background on the Van Allen Radiation Belts:**\n",
        "- First significant discovery in space exploration was the Van Allen radiation belts, discovered in 1958.\n",
        "- These are zones of magnetically trapped, highly energetic charged particles.\n",
        "- Large amounts of radiation from these belts can threaten satellites.\n",
        "\n",
        "**4. The Van Allen Probes:**\n",
        "- Launched by NASA in summer 2012 to study the radiation belts.\n",
        "- Equipped with advanced sensors to analyze the plasma, energetic particles, magnetic fields, and plasma waves in these belts with high precision.\n",
        "\n",
        "**5. The New Radiation Belt:**\n",
        "- Unexpectedly found by the probes.\n",
        "- A third belt made of super-high-energy electrons located 11,900 to 13,900 miles (19,100 to 22,300 kilometers) above Earth.\n",
        "- Formed around Sept. 2 and persisted for over four weeks.\n",
        "- Initially, there was skepticism about the instrument readings, but the quality of the instruments confirmed the discovery's validity.\n",
        "\n",
        "**6. Disappearance of the New Belt:**\n",
        "- The newfound radiation belt vanished almost entirely around Oct. 1.\n",
        "- Likely disrupted by an interplanetary shock wave due to a surge in solar wind speeds.\n",
        "\n",
        "**7. Remarks by Baker:**\n",
        "- Even five decades after the discovery of the Van Allen belts, new findings continue to emerge.\n",
        "- The belts need to be re-assessed both theoretically and observationally.\n",
        "\n",
        "**8. Radiation Belt Mystery:**\n",
        "- Unclear how the temporary radiation belt was formed.\n",
        "- Scientists hypothesize it might have been due to the solar wind stripping away the outer Van Allen belt.\n",
        "- Existence possibly influenced by solar disturbances.\n",
        "\n",
        "**9. Future Investigations:**\n",
        "- Further research on the Van Allen belts can determine if such temporary radiation rings are common or rare events.\n",
        "- Modern tools and increased attention may lead to more surprising revelations about the belts.\n",
        "\n",
        "**10. Publication:**\n",
        "- The detailed findings were published online on Feb. 28 in the journal Science."
      ],
      "metadata": {
        "id": "QFOzCV9kDILC"
      }
    },
    {
      "cell_type": "markdown",
      "source": [
        "### [Ten highlights from NASA's Van Allen Probes mission](https://www.spacedaily.com/reports/Ten_highlights_from_NASAs_Van_Allen_Probes_mission_999.html). October 18, 2019"
      ],
      "metadata": {
        "id": "b9fuUGpNDpkC"
      }
    },
    {
      "cell_type": "markdown",
      "source": [
        "1. **End of Van Allen Probes**:\n",
        "    - The second of the twin Van Allen Probes will be shut down on Oct. 18, 2019, marking the end of seven years of operation.\n",
        "    - Spacecraft A will be decommissioned at Johns Hopkins University Applied Physics Lab; Spacecraft B was terminated three months prior.\n",
        "    \n",
        "2. **Achievements and Resilience**:\n",
        "    - The probes operated in the radiation belts, enduring harsh space environments without interruptions.\n",
        "    - It set records for tolerance and operation in these conditions.\n",
        "\n",
        "3. **Mission Objectives**:\n",
        "    - Originally planned for two years, the probes aimed to study the Van Allen belts – charged particles trapped by Earth's magnetism.\n",
        "    - Their findings have revolutionized our understanding of the near-Earth environment.\n",
        "\n",
        "4. **Significance of the Discoveries**:\n",
        "    - Over 600 publications and 55 Ph.D. theses are based on Van Allen Probes' data.\n",
        "    - The mission gave insights into invisible forces that move particles within the belts and researched space weather effects.\n",
        "\n",
        "5. **Understanding Radiation Belts**:\n",
        "    - The Van Allen Probes made numerous discoveries about radiation belts' architecture and dynamics.\n",
        "    - They identified previously unnoticed radiation belt features and mechanisms for particle acceleration and loss.\n",
        "\n",
        "6. **Notable Discoveries**:\n",
        "    - A third radiation belt can form during intense solar activities.\n",
        "    - Plasma waves called electrostatic double layers can energize the belts, even generating one million volts in six minutes.\n",
        "    - Ions from space weather storms can alter Earth's magnetic field.\n",
        "    - One type of plasma wave, known as hiss, can cause electron loss from the belts.\n",
        "    - The inner Van Allen belt lacks electrons with energies over a million electron volts.\n",
        "    - Two types of whistler chorus waves cannot co-exist, affecting radiation belt particle scattering.\n",
        "    - Very low-frequency chorus waves can rapidly increase particle energy in the belts during storms.\n",
        "    - Computer simulations helped understand particle behavior in relation to Earth's magnetism.\n",
        "    - The probes observed ultra-energetic ions heading to Earth, with their acceleration linked to electric charge, not mass.\n",
        "    - Data showed the Earth's plasmasphere changes in sync with the Sun's rotation, influenced by variations in solar wind.\n",
        "\n",
        "7. **Impact on Science**:\n",
        "    - The Van Allen Probes provided groundbreaking insights into radiation belt physics, helping rewrite textbooks on the subject.\n",
        "\n",
        "8. **Study of Plasma Waves**:\n",
        "    - The probes offered a deep understanding of plasma waves' role in particle movement, acceleration, and the effects of space weather on our near-Earth environment.\n",
        "\n",
        "9. **The Role of Johns Hopkins APL**:\n",
        "    - They not only managed the Van Allen Probes but also designed and built the spacecraft, ensuring high-quality data acquisition.\n",
        "\n",
        "10. **Legacy of the Mission**:\n",
        "    - The Van Allen Probes have made a lasting impact, with their discoveries playing a pivotal role in advancing our knowledge of Earth's radiation belts and near-Earth space physics."
      ],
      "metadata": {
        "id": "SzA6OEVCD4DY"
      }
    },
    {
      "cell_type": "markdown",
      "source": [
        "### Questions"
      ],
      "metadata": {
        "id": "TPgK0kqEEQ_a"
      }
    },
    {
      "cell_type": "markdown",
      "source": [
        "#### Illustration of Whistlers"
      ],
      "metadata": {
        "id": "xUWPWW6GGXri"
      }
    },
    {
      "cell_type": "markdown",
      "source": [
        "![whistlers.jpg](data:image/jpeg;base64,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)"
      ],
      "metadata": {
        "id": "RbM9hQq_Gi1f"
      }
    },
    {
      "cell_type": "markdown",
      "source": [
        "#### 1. Matching. In radiation belts: ions decay by ______, electrons decay by ______.\n",
        " a) charge exchange, scattering through whistlers \\\\\n",
        " b) scattering through whistlers, charge exchange"
      ],
      "metadata": {
        "id": "ler9C11xESxx"
      }
    },
    {
      "cell_type": "code",
      "source": [
        "import ipywidgets as widgets\n",
        "from IPython.display import display, clear_output\n",
        "\n",
        "question = widgets.Label('Matching. In radiation belts: ions decay by ______, electrons decay by ______.')\n",
        "\n",
        "# Define the choices\n",
        "choices = widgets.RadioButtons(\n",
        "    options=[\n",
        "        'a) charge exchange, scattering through whistlers',\n",
        "        'b) scattering through whistlers, charge exchange'\n",
        "    ],\n",
        "    description='',\n",
        "    disabled=False,\n",
        "    layout=widgets.Layout(width='90%')\n",
        ")\n",
        "\n",
        "# Create a container for the choices with a description\n",
        "choices_container = widgets.VBox(\n",
        "    [widgets.Label(\"Choices:\"), choices]\n",
        ")\n",
        "\n",
        "# Create a button for submission\n",
        "submit_button = widgets.Button(description=\"Submit\")\n",
        "\n",
        "output = widgets.Output()\n",
        "\n",
        "def check_answer(button_content):\n",
        "    with output:\n",
        "        clear_output()\n",
        "        if choices.value == 'a) charge exchange, scattering through whistlers':\n",
        "            print(\"Correct!\")\n",
        "        else:\n",
        "            print(\"Incorrect. Try again.\")\n",
        "\n",
        "submit_button.on_click(check_answer)\n",
        "\n",
        "display(question, choices_container, submit_button, output)\n"
      ],
      "metadata": {
        "id": "VazLZqYyFPOI"
      },
      "execution_count": null,
      "outputs": []
    },
    {
      "cell_type": "markdown",
      "source": [
        "## **Module 5E** - Nova Video"
      ],
      "metadata": {
        "id": "ap8XWNQ3G6ii"
      }
    },
    {
      "cell_type": "markdown",
      "source": [
        "THEMIS is a mission designed to determine the origin of substorms.  Watch the video for an overview, then click the link below for results and information on the follow on mission, ARTEMIS."
      ],
      "metadata": {
        "id": "sUVgQsomG9sS"
      }
    },
    {
      "cell_type": "markdown",
      "source": [
        "### [Space Storms - NOVA scienceNOW](https://youtu.be/e6qvaSmQloQ). *March 30, 2009*"
      ],
      "metadata": {
        "id": "qd4O0ssgH2XL"
      }
    },
    {
      "cell_type": "markdown",
      "source": [
        "### Introduction\n",
        "- **Funding**: Supported by corporate and foundation funds.\n",
        "- **Presentation**: Features a meteorologist in space, highlighting the space storms that can impact Earth's communication systems.\n",
        "\n",
        "### Aurora Borealis (Northern Lights)\n",
        "- **Description**: A celestial ballet of light painting the night sky.\n",
        "- **Significance**:\n",
        "  - A spectacle of beauty.\n",
        "  - However, the forces behind it can be perilous.\n",
        "  - **Risks**:\n",
        "    - Potential deadly radiation exposure for astronauts.\n",
        "    - Damage to satellites and electrical systems.\n",
        "    - Possibility of causing blackouts on Earth.\n",
        "\n",
        "### Space Weather\n",
        "- **Location**: The Northern Lights manifest approximately 60 miles above Earth.\n",
        "- **Cause**: Not influenced by Earth's weather, but by conditions in space.\n",
        "  - **Solar Wind**:\n",
        "    - Originates from the Sun emitting electrically charged particles.\n",
        "    - Most are deflected by Earth's magnetic field, but some penetrate the atmosphere.\n",
        "      - Interaction with:\n",
        "        - **Oxygen**: Produces red/green hues.\n",
        "        - **Nitrogen**: Produces a blue hue.\n",
        "        \n",
        "### Substorms\n",
        "- **Description**: Explosions of energy from the solar wind stored in Earth's magnetic field.\n",
        "- **Impact**: Makes the Northern Lights more dynamic and vivid.\n",
        "\n",
        "### The Famous Mission\n",
        "- **Objective**: Investigate substorms and their origin points.\n",
        "- **Satellites**:\n",
        "  - **Purpose for Multiplicity**: Like tsunamis are tracked by multiple buoys in the ocean. One identifies the event; several determine direction and speed.\n",
        "  - **Operation**: Managed by the University of California at Berkeley.\n",
        "  - **Equipment**:\n",
        "    - Outfitted with expansive antennas for substorm detection.\n",
        "    - Described as a \"high-tech jack-in-the-box\".\n",
        "\n",
        "### Solar Cycles and Their Impacts\n",
        "- **Sun's Behavior**: Operates on an 11-year activity cycle, signified by sunspots.\n",
        "  - Notable Cycle: Expected to peak around 2011-2012.\n",
        "\n",
        "### Space Weather Prediction Center\n",
        "- **Location**: Boulder, Colorado.\n",
        "- **Functions**:\n",
        "  - Monitors the Sun's activity.\n",
        "  - Provides space weather alerts, warnings, and forecasts.\n",
        "  - Combines satellite data with experience and intuition.\n",
        "- **Significance**:\n",
        "  - Essential for NASA, utility services, and satellite operators.\n",
        "  - Forecasting Earth's weather has progressed, but space weather prediction remains nascent.\n",
        "\n",
        "### Conclusion\n",
        "- **Data Collection**: The Famous satellites collect data on substorms every four days.\n",
        "- **Implications**:\n",
        "  - This data aids in refining space weather forecasts and unravelling questions regarding the Northern Lights' activity.\n",
        "- **Ultimate Aim**: Deepen comprehension of space weather, its effects, and decipher the enigma of the Northern Lights' choreography."
      ],
      "metadata": {
        "id": "ae_wMTWPIHIQ"
      }
    },
    {
      "cell_type": "markdown",
      "source": [
        "## **Chapter 5 Homework**"
      ],
      "metadata": {
        "id": "GgMEJ5neJGXn"
      }
    },
    {
      "cell_type": "markdown",
      "source": [
        "### 1. Calculate the standoff distance for the magnetopause for the conditions encountered during shocks, or periods of high speed solar wind\n",
        "$\\displaystyle\n",
        "(V_{sw} \\approx 800 \\, \\text{km/s}, \\, n \\approx 25 \\, \\text{cm}^{-3})\n",
        "$"
      ],
      "metadata": {
        "id": "NGpLynzWJ_pv"
      }
    },
    {
      "cell_type": "markdown",
      "source": [
        "**References:** \\\\\n",
        "Text discussion on the magnetopause pages 121-123; Eqn. 5.28. Class notes on the\n",
        "magnetopause.\n",
        "\n",
        "**Concept:** \\\\\n",
        "magnetopause is the boundary between the solar wind and the Earth’s magnetosphere. The magnetopause forms at a distance from the Earth where the pressure of the\n",
        "solar wind is balanced by the pressure within the magnetosphere. Along the line between the Sun and Earth, this distance from the center of the Earth is referred to as the “standoff distance.”\n",
        "\\\n",
        "\\\n",
        "On the solar wind side of the boundary, the pressure is dominated by the solar wind dynamic ram pressure. This ram pressure is due to primarily to the proton component of the solar wind; the contribution from the electron component is relatively small. On the magnetosphere side of the boundary, the dominant pressure is the geomagnetic pressure term. By equating these two terms, we arrive at an expression for the standoff distance, given by Eqn. 5.28.\n",
        "\\\n",
        "\\\n",
        "**Notes:**\n",
        "1. The Earth surface magnetic field at the equator $B_{os}$ is about $30 \\times 10^-6 \\;T$\n",
        "2. Convert proton density to per cubic meter $25 \\; {cm}^{-3} = 25 \\times 10^6 \\; m^{-3} $\n",
        "3. The radius of the Earth $R_E = 6.38 \\times 10^6 \\; m $\n",
        "\n",
        "**Solution:** \\\\\n",
        "The magnetopause standoff distance $r$ is given by Eqn 5.28;\n",
        "\n",
        "$\\displaystyle\n",
        "\\frac{r}{R_E} = \\left( \\frac{4B_{os}^2}{2 \\mu_o n_p m_p v_{sw}^2  } \\right)^{-\\frac{1}{6}} \\\\\n",
        "\\frac{r}{R_E} =  \\left( \\frac{4 \\left( 30 \\times 10^{-6} \\; T\\right)^2}{2 \\left(  4\\pi \\times 10^{-7}  \\; N/A^2 \\right) \\left(25 \\times 10^6 \\; m^{-3} \\right) \\left( 1.67 \\times 10^{-27} \\; kg \\right) \\left( 800 \\times 10^3 \\; m \\; s^{-1} \\right)^2} \\right)^{-\\frac{1}{6}} \\\\\n",
        "\\frac{r}{R_E} = 6.14\n",
        "$\n",
        "\n",
        "So, in units of Earth radii, standoff distance $r = 6.14R_E$ \\\\\n",
        "Or, in SI units, $r = 6.14 \\left( 6.38 \\times 10^6 \\; m\\right) \\approx 39,000 \\; km$  \n",
        "\n",
        "\\\n",
        "**End Note:** \\\\\n",
        "Here is the main takeaway - During typical “quiet” solar wind conditions $ \\left( V_{sw} \\approx 400 \\; \\frac{km}{s}, n \\approx 10 \\; {cm}^{-3} \\right) $, the magnetopause standoff distance is about $ 9-10 \\; R_E $. But during periods of solar activity the solar wind can significantly increase in velocity and particle density. The increased ram pressure of the solar wind during these “high-speed” events causes the\n",
        "magnetosphere to compress on its Sun-facing side. As a result, the magnetopause standoff distance can move closer to the Earth by a distance of several $R_E$. For the high-speed solar wind\n",
        "conditions in this problem, the magnetopause has been compressed to a standoff distance within\n",
        "geosynchronous satellite orbit $ \\left( 6.6 \\; R_E \\right) $."
      ],
      "metadata": {
        "id": "t3dyDAQNLPZw"
      }
    },
    {
      "cell_type": "code",
      "source": [
        "import math\n",
        "\n",
        "def magnetopause_standoff_distance(B_os, n_p, v_sw, R_E, mu_o, m_p):\n",
        "    numerator = 4 * B_os**2\n",
        "    denominator = 2 * mu_o * n_p * m_p * v_sw**2\n",
        "    fraction = numerator / denominator\n",
        "    r_over_RE = fraction**(-1/6)\n",
        "    r_SI = r_over_RE * R_E\n",
        "    r_km = r_SI / 1e3\n",
        "    return r_over_RE, r_SI, r_km\n",
        "\n",
        "# Constants\n",
        "B_os = 30e-6\n",
        "n_p = 25e6\n",
        "v_sw = 800e3\n",
        "R_E = 6.38e6\n",
        "mu_o = 4 * math.pi * 1e-7\n",
        "m_p = 1.67e-27\n",
        "\n",
        "# Calculate\n",
        "r_over_RE, r_SI, r_km = magnetopause_standoff_distance(B_os, n_p, v_sw, R_E, mu_o, m_p)\n",
        "print(f\"Standoff distance in units of Earth radii: {r_over_RE}\")\n",
        "print(f\"Standoff distance in SI units (meters): {r_SI}\")\n",
        "print(f\"Standoff distance in kilometers: {r_km} km\")\n",
        "print(\"TODO: Idk why the Python gives a different value here, it looks correct. Revisit to figure out why later\")\n"
      ],
      "metadata": {
        "id": "4Makx6cuRx2j"
      },
      "execution_count": null,
      "outputs": []
    },
    {
      "cell_type": "markdown",
      "source": [
        "### 3. Calculate the invariant latitudes corresponding to $L = 4 $ and $L = 6.6$"
      ],
      "metadata": {
        "id": "RxzNMLd_KGcN"
      }
    },
    {
      "cell_type": "markdown",
      "source": [
        "**References:** \\\\\n",
        "Text discussion on pages 118-119; Eqn 5.21\n",
        "\\\n",
        "\\\n",
        "**Concept:** \\\\\n",
        "The invariant latitude $\\left(Λ \\right)$ is the latitude at which a geomagnetic field line, defined by the “L” parameter, intersects with the surface of the Earth.\n",
        "\\\n",
        "\\\n",
        "**Solution:** \\\\\n",
        "$L$ and $Λ$ are related via Eqn 5.21; \\\\\n",
        "$\\displaystyle\n",
        "\\cos(Λ) = \\frac{1}{\\sqrt{L}} \\; \\text{and solving for} Λ = \\cos^{-1}(\\frac{1}{\\sqrt{L}}) \\\\\n",
        "\\text{for } L=4; Λ= \\cos^{-1}(\\frac{1}{\\sqrt{4}}) =60° \\\\\n",
        "\\text{for } L = 6; Λ=\\cos^{-1}(\\frac{1}{\\sqrt{6.6}})=67.1°\n",
        "$\n",
        "\\\n",
        "\\\n",
        "**End Note:** \\\\\n",
        "The value of $L=6.6$ coincides with the orbits of GEO satellites (approximately\n",
        "stationary over the magnetic equator). So, the magnetic field line at a GEO satellite maps to the\n",
        "Earth’s surface at about $67°$ magnetic latitude."
      ],
      "metadata": {
        "id": "py7h7mLkW04F"
      }
    },
    {
      "cell_type": "code",
      "source": [
        "import math\n",
        "\n",
        "def invariant_latitude(L):\n",
        "    \"\"\"\n",
        "    Calculate the invariant latitude (Λ) based on the provided \"L\" parameter.\n",
        "\n",
        "    Parameters:\n",
        "    - L : Geomagnetic field line parameter\n",
        "\n",
        "    Returns:\n",
        "    - Λ : Invariant latitude in degrees\n",
        "    \"\"\"\n",
        "    cos_Lambda = 1 / math.sqrt(L)\n",
        "    Lambda = math.degrees(math.acos(cos_Lambda))\n",
        "    return Lambda\n",
        "\n",
        "L_values = [4, 6.6]\n",
        "for L in L_values:\n",
        "    Lambda = invariant_latitude(L)\n",
        "    print(f\"For L = {L}, Λ = {Lambda:.2f}°\")\n"
      ],
      "metadata": {
        "id": "wl8sLDkcZfOt"
      },
      "execution_count": null,
      "outputs": []
    },
    {
      "cell_type": "markdown",
      "source": [
        " ### 5. For ions (protons) with a kinetic energy of $1 \\; MeV$ at $L = 3$, calculate the Grad-B drift velocity."
      ],
      "metadata": {
        "id": "8lAKQnEZKJPR"
      }
    },
    {
      "cell_type": "markdown",
      "source": [
        "**References:** \\\\\n",
        "Text discussion on Drifts beginning page 115. See the derivation for the drift\n",
        "velocity in the class notes on plasma particle drifts from Chapter 1 and Chapter 5.\n",
        "\\\n",
        "\\\n",
        "**Concept:** \\\\\n",
        "The strength of the Earth’s geomagnetic field decreases with distance away from the\n",
        "Earth. This gradient in the geomagnetic field $\\left( \\nabla B  \\right) $ causes electrons and protons in the magnetosphere to drift in opposite directions, resulting in a net current. It is this Grad-B drift that is the major contributor to the magnetospheric Ring Current around the Earth.\n",
        "\\\n",
        "\\\n",
        "**Notes:**\n",
        "1. The radius of the Earth $R_E = 6.38 \\times 10^6 \\; m$\n",
        "2. The constant $B_{os} = 3.1\\times 10^{-5} \\; T$\n",
        "\n",
        "\\\n",
        "**Solution:** \\\\\n",
        "The Grad-B drift velocity is given by Eqn. 5.16;\n",
        "\n",
        "$\\displaystyle\n",
        "\\overrightarrow{V_D} = \\frac{K_⊥​}{qB} \\frac{\\overrightarrow{B} \\times \\nabla B}{B^2}\n",
        "$ \\\\\n",
        "\\\n",
        "where $K_{⊥}$ is the \"perpendicular\" kenetic energy due to ion motion perpoendicular to $B$. Assume $K_⊥$ is given as $1 \\; MeV$.\n",
        "\\\n",
        "\\\n",
        "From Eqn 4.3 and Eqn 4.4, the dipole geomagnetic field $\\left(B \\right)$ is expressed as a function of radial distance $\\left(r \\right)$ and geomagnetic latitude $\\left(λ \\right)$ as; \\\\\n",
        "\\\n",
        "$\\displaystyle\n",
        "\\overrightarrow{V_D} = - \\frac{3}{r} \\frac{K_⊥}{qB} \\hat{ϕ}\n",
        "$ \\\\\n",
        "\\\n",
        "Note that the direction of the drift is in the east-west direction $\\left( ϕ\\right)$, perpendicular to both the $B$ and $ \\nabla B $ vectors.\n",
        "\\\n",
        "\\\n",
        "Along the geomagnetic equator $\\left(λ_m = 0 \\right) $, we have the following relationships; \\\\\n",
        "\\\n",
        "$\\displaystyle\n",
        "\\text{From Eqn 5.20; } r = R_EL \\left(\\text{for } λ_m = 0 \\right) \\\\\n",
        "\\text{and from Eqn 5.22; } B = \\frac{B_{os}}{L^3} \\left(\\text{for } λ_m = 0 \\right) \\\\\n",
        "$ \\\\\n",
        "\n",
        "Now substituting for $r$ and $B$, the magnitude of the drift velocity becomes; \\\\\n",
        "\\\n",
        "$\\displaystyle\n",
        "\\lvert \\overrightarrow{V_D} \\rvert =  \\frac{3}{r} \\frac{K_⊥}{qB} = \\frac{3}{R_E L} \\frac{K_⊥}{q \\left( \\frac{B_{os}}{L^3} \\right)} = \\frac{3L^2}{R_E B_{os}} \\frac{K_⊥}{q}\n",
        "$ \\\\\n",
        "\n",
        "That’s all the derivation we need. Now plug in the numbers; \\\\\n",
        "\\\n",
        "$\\displaystyle\n",
        "\\lvert \\overrightarrow{V_D} \\rvert = \\frac{3 \\left( 3\\right)^2}{\\left( 6.38 \\times 10^6 \\; m\\right) \\left( 3.1 \\times 10^{-5} \\; T \\right) } \\frac{\\left( 1 \\times 10^6 \\; eV\\right) \\left(1.6 \\times 10^{-19} \\; \\frac{J}{eV} \\right) }{\\left(1.6 \\times 10^{-19} \\; C \\right)} \\\\\n",
        "\\lvert \\overrightarrow{V_D} \\rvert = 1.37 \\times 10^5 \\; \\frac{m}{s}\n",
        "$ \\\\\n",
        "\\\n",
        "\\\n",
        "**End Note:** \\\\\n",
        "Interpretation; $1 \\; MeV$ protons at $L=3$ will flow westward in the magnetosphere due\n",
        "to the Grad-B drift effect, at a drift velocity of about $105 \\frac{m}{s}$. With this drift velocity, do the math to show that it would take about $15 \\; \\text{minutes}$ for the protons to complete one revolution around\n",
        "the Earth. This Grad-B drift is the major contributor to the Ring Current, the strength of which varies with geomagnetic activity and is monitored via the $D_{st}$ Index."
      ],
      "metadata": {
        "id": "R1IDj_rgaCK_"
      }
    },
    {
      "cell_type": "code",
      "source": [
        "import math\n",
        "\n",
        "def grad_b_drift_velocity(L, R_E, B_os, K_perp, q):\n",
        "    \"\"\"\n",
        "    Calculate the magnitude of the Grad-B drift velocity.\n",
        "\n",
        "    Parameters:\n",
        "    - L : Geomagnetic shell parameter\n",
        "    - R_E : Radius of the Earth (m)\n",
        "    - B_os : Constant magnetic field strength (T)\n",
        "    - K_perp : Perpendicular kinetic energy (eV)\n",
        "    - q : Charge of the proton (C)\n",
        "\n",
        "    Returns:\n",
        "    - V_D_magnitude : Magnitude of the drift velocity (m/s)\n",
        "    \"\"\"\n",
        "    eV_to_Joules = 1.6e-19  # Conversion factor from eV to Joules\n",
        "    K_perp_joules = K_perp * eV_to_Joules  # Convert the energy from eV to Joules\n",
        "    V_D_magnitude = (3 * L**2 / (R_E * B_os)) * (K_perp_joules / q)\n",
        "    return V_D_magnitude\n",
        "\n",
        "def revolution_time(V_D, R_E, L):\n",
        "    \"\"\"\n",
        "    Calculate the time taken for protons to complete one revolution around the Earth.\n",
        "\n",
        "    Parameters:\n",
        "    - V_D : Magnitude of the drift velocity (m/s)\n",
        "    - R_E : Radius of the Earth (m)\n",
        "    - L : Geomagnetic shell parameter\n",
        "\n",
        "    Returns:\n",
        "    - time_minutes : Time taken for one revolution (minutes)\n",
        "    \"\"\"\n",
        "    circumference = 2 * math.pi * R_E * L  # Approximated circumference at the drift shell\n",
        "    time_seconds = circumference / V_D\n",
        "    time_minutes = time_seconds / 60\n",
        "    return time_minutes\n",
        "\n",
        "# Constants\n",
        "L = 3\n",
        "R_E = 6.38e6  # m\n",
        "B_os = 3.1e-5  # T\n",
        "K_perp = 1e6  # eV\n",
        "q = 1.6e-19  # C\n",
        "\n",
        "# Calculate\n",
        "V_D_magnitude = grad_b_drift_velocity(L, R_E, B_os, K_perp, q)\n",
        "time_minutes = revolution_time(V_D_magnitude, R_E, L)\n",
        "\n",
        "print(f\"Grad-B drift velocity magnitude: {V_D_magnitude:.2f} m/s\")\n",
        "print(f\"Time for one revolution around the Earth: {time_minutes:.2f} minutes\")\n"
      ],
      "metadata": {
        "id": "9keDoGD9kH2T"
      },
      "execution_count": null,
      "outputs": []
    },
    {
      "cell_type": "markdown",
      "source": [
        "### 8. (a) Evaluate the geomagnetic field strength for $L = 5$ and $λ_m = 0°$, $45°$, then (b) Calculate the critical (equatorial) pitch angle such that particles will mirror at $λ_m = 45°$."
      ],
      "metadata": {
        "id": "vCOROguDKLsv"
      }
    },
    {
      "cell_type": "markdown",
      "source": [
        "**References:** \\\\\n",
        "Text discussion on “L” parameter and Eqn. 5.22 on pages 118-119. Text discussion on magnetic mirroring and Eqn. 5.12, pages 110-114. \\\\\n",
        "\\\n",
        "**Concept:** \\\\\n",
        "Plasma particles in the magnetosphere travel along geomagnetic field lines and\n",
        "“bounce”, or mirror, back and forth between the hemispheres, north and south. The magnetic\n",
        "latitude at which they mirror is a function of the geomagnetic field strength and the pitch angle\n",
        "of the particles. \\\\\n",
        "\\\n",
        "**Notes:**\n",
        "1.   The constant $B_{os}=3.1\\times 10^{}-5 \\; T$\n",
        "\n",
        "\\\\\n",
        "**Solution:** \\\\\n",
        "\\\n",
        "**(a) Calculate $B $ at any magnetic latitude $λ_m$ anf for any $L$ parameter from Eqn 5.22;** \\\\\n",
        "\\\n",
        "$\\displaystyle\n",
        "B =  \\frac{B_{os}}{L^3} \\frac{\\sqrt{4-3\\cos^2(λ_m)}}{\\cos^6(λ_m)} \\text{ Evaluate for } L=5  \\text{, and at } λ_m = 0° \\text{ and } 45° \\text{;}\n",
        "$\n",
        "$\\displaystyle\n",
        "\\text{At } λ_m = 0°; B = \\frac{3.1 \\times 10^{-5} \\; T}{5^3} \\left( \\frac{\\sqrt{4-3\\cos^2(0°)}}{\\cos^6(0°)}\\right) = 2.48 \\times 10^{-7} \\; T \\left( 1\\right) = 2.48 \\times 10^{-7} T $\n",
        "$\\displaystyle\n",
        "\\text{At } λ_m = 45°; B = 2.48 \\times 10^{-7} \\; T \\left( 12.65\\right) = 3.14 \\times 10^{-6} \\; T\n",
        "$ \\\\\n",
        "\\\n",
        "\\\n",
        "**(b) The mirror formula is given by Eqn. 5.12** \\\\\n",
        "\\\n",
        "$\\displaystyle\n",
        "\\sin^2(α_{critical}) = \\frac{B_{λ_m=0}}{B_{mirror}}\n",
        "$ \\\\\n",
        "\n",
        "Where $α_{critical}$ is the critical pitch angle of a particle as it crosses the equator $\\left(λ_m=0°\\right)$, and $B_{mirror}$ is the field strength at the latitude of the particle’s mirror point. The problem asks to find $α_{critical}$ for particles that mirror at $λ_m=45°$, so $B_mirror$ in this case is $B λ_m=45°$. \\\\\n",
        "\n",
        "$\\displaystyle\n",
        "\\sin^2(α_{critical}) = \\frac{B_{λ_m=0}}{B_{mirror}}=\\frac{B_{λ_m=0}}{B_{λ_m=45}}= \\frac{\\left( 2.45 \\times 10^{-7} \\; T \\right)}{\\left(3.14 \\times 10^{-6} \\; T \\right)} = 0.079\n",
        "$ \\\\\n",
        "\\\n",
        "Now solve for $α_{critical}$ \\\\\n",
        "\\\n",
        "$\\displaystyle\n",
        "α_{critical} = \\sin^{-1}( \\sqrt{0.079} ) = 16.3°\n",
        "$ \\\\\n",
        "\\\n",
        "\\\n",
        "**End Note:** \\\\\n",
        "Interpretation; plasma particles at $L=5$ will mirror at $45°$ magnetic latitude if their pitch angle as they cross the equator $\\left(α_{critical}\\right)$ is about $16°$. Particles with $α_{critical} > 16°$ will mirror\n",
        "at latitudes less than $45°$.  Particles with $α_{critical} < 16°$ will mirror at latitudes greater than $45°$.  As an additional exercise, what is the critical pitch angle for the particles to be lost to the Earth’s atmosphere (the loss cone angle)? To determine this, first find the invariant latitude for\n",
        "$L=5$, as in problem 3. Then calculate $B$ at that invariant latitude as in part (a) above and use that value for αcritical as in part (b). By my calculation, the answer is about $3.8°$.\n"
      ],
      "metadata": {
        "id": "M1zAbDyllXIs"
      }
    },
    {
      "cell_type": "code",
      "source": [
        "import math\n",
        "\n",
        "# Constants\n",
        "B_os = 3.1e-5  # T\n",
        "\n",
        "# Function to calculate B for given L and lambda_m (magnetic latitude)\n",
        "def B_lambda(L, lambda_m_degrees):\n",
        "    lambda_m = math.radians(lambda_m_degrees)  # Convert degrees to radians\n",
        "    return (B_os / L**3) * (math.sqrt(4 - 3 * math.cos(lambda_m)**2) / math.cos(lambda_m)**6)\n",
        "\n",
        "# Function to calculate critical alpha for given B values\n",
        "def alpha_critical(B_lambda0, B_mirror):\n",
        "    sin2_alpha = B_lambda0 / B_mirror\n",
        "    return math.degrees(math.asin(math.sqrt(sin2_alpha)))\n",
        "\n",
        "# Calculation\n",
        "# Part (a)\n",
        "L = 5\n",
        "lambda_m_0 = 0\n",
        "lambda_m_45 = 45\n",
        "B_at_0 = B_lambda(L, lambda_m_0)\n",
        "B_at_45 = B_lambda(L, lambda_m_45)\n",
        "\n",
        "print(f\"At λ_m = {lambda_m_0}°, B = {B_at_0:.2e} T\")\n",
        "print(f\"At λ_m = {lambda_m_45}°, B = {B_at_45:.2e} T\")\n",
        "\n",
        "# Part (b)\n",
        "alpha_crit = alpha_critical(B_at_0, B_at_45)\n",
        "print(f\"Critical alpha (α_critical) = {alpha_crit:.2f}°\")\n",
        "\n",
        "# To get the critical pitch angle for the particles to be lost to the Earth’s atmosphere,\n",
        "# you'd need to perform additional calculations as mentioned in the \"End Note\" but\n",
        "# the formulae for that were not provided in the original content.\n"
      ],
      "metadata": {
        "id": "VoEAOZwIv9zT"
      },
      "execution_count": null,
      "outputs": []
    }
  ]
}